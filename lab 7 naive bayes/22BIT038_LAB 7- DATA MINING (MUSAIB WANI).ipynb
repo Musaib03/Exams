{
  "cells": [
    {
      "cell_type": "code",
      "execution_count": 1,
      "metadata": {
        "colab": {
          "base_uri": "https://localhost:8080/"
        },
        "id": "QZqkNOnZNAL0",
        "outputId": "b4fa82e5-4dac-4cb9-bf4d-3557898db971"
      },
      "outputs": [
        {
          "name": "stdout",
          "output_type": "stream",
          "text": [
            "Test Input ['Overcast', 'Mild']: Predicted Play = Yes\n",
            "Test Input ['Sunny', 'Cool']: Predicted Play = No\n",
            "Test Input ['Rainy', 'Hot']: Predicted Play = Yes\n"
          ]
        },
        {
          "name": "stderr",
          "output_type": "stream",
          "text": [
            "/usr/local/lib/python3.10/dist-packages/sklearn/base.py:493: UserWarning: X does not have valid feature names, but GaussianNB was fitted with feature names\n",
            "  warnings.warn(\n"
          ]
        }
      ],
      "source": [
        "# Importing necessary libraries\n",
        "import pandas as pd\n",
        "from sklearn.preprocessing import LabelEncoder\n",
        "from sklearn.naive_bayes import GaussianNB\n",
        "\n",
        "# Creating the dataset\n",
        "data = {\n",
        "    'Weather': ['Sunny', 'Sunny', 'Overcast', 'Rainy', 'Rainy', 'Rainy', 'Overcast', 'Sunny', 'Sunny', 'Rainy', 'Sunny', 'Overcast', 'Overcast', 'Rainy'],\n",
        "    'Temperature': ['Hot', 'Hot', 'Hot', 'Mild', 'Cool', 'Cool', 'Cool', 'Mild', 'Cool', 'Mild', 'Mild', 'Mild', 'Hot', 'Mild'],\n",
        "    'Play': ['No', 'No', 'Yes', 'Yes', 'Yes', 'No', 'Yes', 'No', 'Yes', 'Yes', 'Yes', 'Yes', 'Yes', 'No']\n",
        "}\n",
        "\n",
        "# Converting the dataset to a DataFrame\n",
        "df = pd.DataFrame(data)\n",
        "\n",
        "# Encoding categorical variables\n",
        "le_weather = LabelEncoder()\n",
        "le_temperature = LabelEncoder()\n",
        "le_play = LabelEncoder()\n",
        "\n",
        "df['Weather'] = le_weather.fit_transform(df['Weather'])\n",
        "df['Temperature'] = le_temperature.fit_transform(df['Temperature'])\n",
        "df['Play'] = le_play.fit_transform(df['Play'])\n",
        "\n",
        "# Defining features (X) and target (y)\n",
        "X = df[['Weather', 'Temperature']]\n",
        "y = df['Play']\n",
        "\n",
        "# Training the Naive Bayes classifier\n",
        "model = GaussianNB()\n",
        "model.fit(X, y)\n",
        "\n",
        "# Test data for prediction (Overcast, Mild), (Sunny, Cool), (Rainy, Hot)\n",
        "test_data = [\n",
        "    ['Overcast', 'Mild'],\n",
        "    ['Sunny', 'Cool'],\n",
        "    ['Rainy', 'Hot']\n",
        "]\n",
        "\n",
        "# Converting test data to numerical form using the same label encoders\n",
        "test_data_encoded = [[le_weather.transform([weather])[0], le_temperature.transform([temp])[0]] \n",
        "            for weather, temp in test_data]\n",
        "\n",
        "# Predicting the class labels for the test set\n",
        "predictions = model.predict(test_data_encoded)\n",
        "\n",
        "# Converting predictions back to original class labels (Yes/No)\n",
        "predicted_labels = le_play.inverse_transform(predictions)\n",
        "\n",
        "# Displaying the results\n",
        "for i, test in enumerate(test_data):\n",
        "    print(f\"Test Input {test}: Predicted Play = {predicted_labels[i]}\")\n"
      ]
    }
  ],
  "metadata": {
    "colab": {
      "provenance": [],
      "toc_visible": true
    },
    "kernelspec": {
      "display_name": "Python 3",
      "name": "python3"
    },
    "language_info": {
      "name": "python"
    }
  },
  "nbformat": 4,
  "nbformat_minor": 0
}
