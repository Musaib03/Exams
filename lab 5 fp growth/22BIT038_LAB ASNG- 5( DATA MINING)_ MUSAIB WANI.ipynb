{
  "cells": [
    {
      "cell_type": "markdown",
      "metadata": {
        "id": "5k9cwb5yfKUN"
      },
      "source": [
        "DATA MINING\n",
        "MUSAIB MAQBOOL WANI 22BIT038"
      ]
    },
    {
      "cell_type": "code",
      "execution_count": 1,
      "metadata": {
        "colab": {
          "base_uri": "https://localhost:8080/"
        },
        "id": "EYgMc2griinZ",
        "outputId": "f4fbb6ff-5611-43a3-96ad-ba36f932c9cd"
      },
      "outputs": [
        {
          "name": "stdout",
          "output_type": "stream",
          "text": [
            "                 0                  1            2                 3   \\\n",
            "0            shrimp            almonds      avocado    vegetables mix   \n",
            "1           burgers          meatballs         eggs               NaN   \n",
            "2           chutney                NaN          NaN               NaN   \n",
            "3            turkey            avocado          NaN               NaN   \n",
            "4     mineral water               milk   energy bar  whole wheat rice   \n",
            "...             ...                ...          ...               ...   \n",
            "7496         butter         light mayo  fresh bread               NaN   \n",
            "7497        burgers  frozen vegetables         eggs      french fries   \n",
            "7498        chicken                NaN          NaN               NaN   \n",
            "7499       escalope          green tea          NaN               NaN   \n",
            "7500           eggs    frozen smoothie  yogurt cake    low fat yogurt   \n",
            "\n",
            "                4                 5     6               7             8   \\\n",
            "0     green grapes  whole weat flour  yams  cottage cheese  energy drink   \n",
            "1              NaN               NaN   NaN             NaN           NaN   \n",
            "2              NaN               NaN   NaN             NaN           NaN   \n",
            "3              NaN               NaN   NaN             NaN           NaN   \n",
            "4        green tea               NaN   NaN             NaN           NaN   \n",
            "...            ...               ...   ...             ...           ...   \n",
            "7496           NaN               NaN   NaN             NaN           NaN   \n",
            "7497     magazines         green tea   NaN             NaN           NaN   \n",
            "7498           NaN               NaN   NaN             NaN           NaN   \n",
            "7499           NaN               NaN   NaN             NaN           NaN   \n",
            "7500           NaN               NaN   NaN             NaN           NaN   \n",
            "\n",
            "                9               10         11     12     13             14  \\\n",
            "0     tomato juice  low fat yogurt  green tea  honey  salad  mineral water   \n",
            "1              NaN             NaN        NaN    NaN    NaN            NaN   \n",
            "2              NaN             NaN        NaN    NaN    NaN            NaN   \n",
            "3              NaN             NaN        NaN    NaN    NaN            NaN   \n",
            "4              NaN             NaN        NaN    NaN    NaN            NaN   \n",
            "...            ...             ...        ...    ...    ...            ...   \n",
            "7496           NaN             NaN        NaN    NaN    NaN            NaN   \n",
            "7497           NaN             NaN        NaN    NaN    NaN            NaN   \n",
            "7498           NaN             NaN        NaN    NaN    NaN            NaN   \n",
            "7499           NaN             NaN        NaN    NaN    NaN            NaN   \n",
            "7500           NaN             NaN        NaN    NaN    NaN            NaN   \n",
            "\n",
            "          15                 16               17       18         19  \n",
            "0     salmon  antioxydant juice  frozen smoothie  spinach  olive oil  \n",
            "1        NaN                NaN              NaN      NaN        NaN  \n",
            "2        NaN                NaN              NaN      NaN        NaN  \n",
            "3        NaN                NaN              NaN      NaN        NaN  \n",
            "4        NaN                NaN              NaN      NaN        NaN  \n",
            "...      ...                ...              ...      ...        ...  \n",
            "7496     NaN                NaN              NaN      NaN        NaN  \n",
            "7497     NaN                NaN              NaN      NaN        NaN  \n",
            "7498     NaN                NaN              NaN      NaN        NaN  \n",
            "7499     NaN                NaN              NaN      NaN        NaN  \n",
            "7500     NaN                NaN              NaN      NaN        NaN  \n",
            "\n",
            "[7501 rows x 20 columns]\n"
          ]
        }
      ],
      "source": [
        "import pandas as pd\n",
        "import numpy as np\n",
        "from mlxtend.preprocessing import TransactionEncoder\n",
        "from mlxtend.frequent_patterns import fpgrowth, association_rules\n",
        "import plotly.express as px\n",
        "\n",
        "# Load dataset\n",
        "dataset = pd.read_csv(\"Market_Basket_Optimisation.csv\", header=None)\n",
        "print(dataset)"
      ]
    },
    {
      "cell_type": "code",
      "execution_count": 5,
      "metadata": {
        "colab": {
          "base_uri": "https://localhost:8080/",
          "height": 1000
        },
        "id": "g1gI8bKtitr0",
        "outputId": "f0572b62-08be-4cf5-8630-dbe02eb59767"
      },
      "outputs": [
        {
          "name": "stderr",
          "output_type": "stream",
          "text": [
            "/usr/local/lib/python3.10/dist-packages/ipykernel/ipkernel.py:283: DeprecationWarning:\n",
            "\n",
            "`should_run_async` will not call `transform_cell` automatically in the future. Please pass the result to `transformed_cell` argument and any exception that happen during thetransform in `preprocessing_exc_tuple` in IPython 7.17 and above.\n",
            "\n"
          ]
        },
        {
          "data": {
            "text/html": [
              "<html>\n",
              "<head><meta charset=\"utf-8\" /></head>\n",
              "<body>\n",
              "    <div>            <script src=\"https://cdnjs.cloudflare.com/ajax/libs/mathjax/2.7.5/MathJax.js?config=TeX-AMS-MML_SVG\"></script><script type=\"text/javascript\">if (window.MathJax && window.MathJax.Hub && window.MathJax.Hub.Config) {window.MathJax.Hub.Config({SVG: {font: \"STIX-Web\"}});}</script>                <script type=\"text/javascript\">window.PlotlyConfig = {MathJaxConfig: 'local'};</script>\n",
              "        <script charset=\"utf-8\" src=\"https://cdn.plot.ly/plotly-2.24.1.min.js\"></script>                <div id=\"80aa841f-5aab-47c3-87bd-f371d35db97c\" class=\"plotly-graph-div\" style=\"height:525px; width:100%;\"></div>            <script type=\"text/javascript\">                                    window.PLOTLYENV=window.PLOTLYENV || {};                                    if (document.getElementById(\"80aa841f-5aab-47c3-87bd-f371d35db97c\")) {                    Plotly.newPlot(                        \"80aa841f-5aab-47c3-87bd-f371d35db97c\",                        [{\"branchvalues\":\"total\",\"customdata\":[[\"avocado\",250.0],[\"brownies\",253.0],[\"burgers\",654.0],[\"butter\",226.0],[\"cake\",608.0],[\"cereals\",193.0],[\"champagne\",351.0],[\"chicken\",450.0],[\"chocolate\",1229.0],[\"cookies\",603.0],[\"cooking oil\",383.0],[\"cottage cheese\",239.0],[\"eggs\",1348.0],[\"energy bar\",203.0],[\"energy drink\",200.0],[\"escalope\",595.0],[\"french fries\",1282.0],[\"french wine\",169.0],[\"fresh bread\",323.0],[\"fresh tuna\",167.0],[\"frozen smoothie\",475.0],[\"frozen vegetables\",715.0],[\"grated cheese\",393.0],[\"green tea\",991.0],[\"ground beef\",737.0],[\"ham\",199.0],[\"herb & pepper\",371.0],[\"honey\",356.0],[\"hot dogs\",243.0],[\"light mayo\",204.0],[\"low fat yogurt\",574.0],[\"milk\",972.0],[\"mineral water\",1788.0],[\"muffins\",181.0],[\"oil\",173.0],[\"olive oil\",494.0],[\"pancakes\",713.0],[\"pepper\",199.0],[\"red wine\",211.0],[\"salmon\",319.0],[\"shrimp\",536.0],[\"soup\",379.0],[\"spaghetti\",1306.0],[\"tomato juice\",228.0],[\"tomatoes\",513.0],[\"turkey\",469.0],[\"vegetables mix\",193.0],[\"whole wheat pasta\",221.0],[\"whole wheat rice\",439.0],[\"yogurt cake\",205.0]],\"domain\":{\"x\":[0.0,1.0],\"y\":[0.0,1.0]},\"hovertemplate\":\"labels=%{label}\\u003cbr\\u003eincident_count_sum=%{value}\\u003cbr\\u003eparent=%{parent}\\u003cbr\\u003eid=%{id}\\u003cbr\\u003eitem=%{customdata[0]}\\u003cbr\\u003eincident_count=%{color}\\u003cextra\\u003e\\u003c\\u002fextra\\u003e\",\"ids\":[\"avocado\",\"brownies\",\"burgers\",\"butter\",\"cake\",\"cereals\",\"champagne\",\"chicken\",\"chocolate\",\"cookies\",\"cooking oil\",\"cottage cheese\",\"eggs\",\"energy bar\",\"energy drink\",\"escalope\",\"french fries\",\"french wine\",\"fresh bread\",\"fresh tuna\",\"frozen smoothie\",\"frozen vegetables\",\"grated cheese\",\"green tea\",\"ground beef\",\"ham\",\"herb & pepper\",\"honey\",\"hot dogs\",\"light mayo\",\"low fat yogurt\",\"milk\",\"mineral water\",\"muffins\",\"oil\",\"olive oil\",\"pancakes\",\"pepper\",\"red wine\",\"salmon\",\"shrimp\",\"soup\",\"spaghetti\",\"tomato juice\",\"tomatoes\",\"turkey\",\"vegetables mix\",\"whole wheat pasta\",\"whole wheat rice\",\"yogurt cake\"],\"labels\":[\"avocado\",\"brownies\",\"burgers\",\"butter\",\"cake\",\"cereals\",\"champagne\",\"chicken\",\"chocolate\",\"cookies\",\"cooking oil\",\"cottage cheese\",\"eggs\",\"energy bar\",\"energy drink\",\"escalope\",\"french fries\",\"french wine\",\"fresh bread\",\"fresh tuna\",\"frozen smoothie\",\"frozen vegetables\",\"grated cheese\",\"green tea\",\"ground beef\",\"ham\",\"herb & pepper\",\"honey\",\"hot dogs\",\"light mayo\",\"low fat yogurt\",\"milk\",\"mineral water\",\"muffins\",\"oil\",\"olive oil\",\"pancakes\",\"pepper\",\"red wine\",\"salmon\",\"shrimp\",\"soup\",\"spaghetti\",\"tomato juice\",\"tomatoes\",\"turkey\",\"vegetables mix\",\"whole wheat pasta\",\"whole wheat rice\",\"yogurt cake\"],\"marker\":{\"coloraxis\":\"coloraxis\",\"colors\":[250.0,253.0,654.0,226.0,608.0,193.0,351.0,450.0,1229.0,603.0,383.0,239.0,1348.0,203.0,200.0,595.0,1282.0,169.0,323.0,167.0,475.0,715.0,393.0,991.0,737.0,199.0,371.0,356.0,243.0,204.0,574.0,972.0,1788.0,181.0,173.0,494.0,713.0,199.0,211.0,319.0,536.0,379.0,1306.0,228.0,513.0,469.0,193.0,221.0,439.0,205.0]},\"name\":\"\",\"parents\":[\"\",\"\",\"\",\"\",\"\",\"\",\"\",\"\",\"\",\"\",\"\",\"\",\"\",\"\",\"\",\"\",\"\",\"\",\"\",\"\",\"\",\"\",\"\",\"\",\"\",\"\",\"\",\"\",\"\",\"\",\"\",\"\",\"\",\"\",\"\",\"\",\"\",\"\",\"\",\"\",\"\",\"\",\"\",\"\",\"\",\"\",\"\",\"\",\"\",\"\"],\"values\":[250,253,654,226,608,193,351,450,1229,603,383,239,1348,203,200,595,1282,169,323,167,475,715,393,991,737,199,371,356,243,204,574,972,1788,181,173,494,713,199,211,319,536,379,1306,228,513,469,193,221,439,205],\"type\":\"treemap\"}],                        {\"template\":{\"data\":{\"histogram2dcontour\":[{\"type\":\"histogram2dcontour\",\"colorbar\":{\"outlinewidth\":0,\"ticks\":\"\"},\"colorscale\":[[0.0,\"#0d0887\"],[0.1111111111111111,\"#46039f\"],[0.2222222222222222,\"#7201a8\"],[0.3333333333333333,\"#9c179e\"],[0.4444444444444444,\"#bd3786\"],[0.5555555555555556,\"#d8576b\"],[0.6666666666666666,\"#ed7953\"],[0.7777777777777778,\"#fb9f3a\"],[0.8888888888888888,\"#fdca26\"],[1.0,\"#f0f921\"]]}],\"choropleth\":[{\"type\":\"choropleth\",\"colorbar\":{\"outlinewidth\":0,\"ticks\":\"\"}}],\"histogram2d\":[{\"type\":\"histogram2d\",\"colorbar\":{\"outlinewidth\":0,\"ticks\":\"\"},\"colorscale\":[[0.0,\"#0d0887\"],[0.1111111111111111,\"#46039f\"],[0.2222222222222222,\"#7201a8\"],[0.3333333333333333,\"#9c179e\"],[0.4444444444444444,\"#bd3786\"],[0.5555555555555556,\"#d8576b\"],[0.6666666666666666,\"#ed7953\"],[0.7777777777777778,\"#fb9f3a\"],[0.8888888888888888,\"#fdca26\"],[1.0,\"#f0f921\"]]}],\"heatmap\":[{\"type\":\"heatmap\",\"colorbar\":{\"outlinewidth\":0,\"ticks\":\"\"},\"colorscale\":[[0.0,\"#0d0887\"],[0.1111111111111111,\"#46039f\"],[0.2222222222222222,\"#7201a8\"],[0.3333333333333333,\"#9c179e\"],[0.4444444444444444,\"#bd3786\"],[0.5555555555555556,\"#d8576b\"],[0.6666666666666666,\"#ed7953\"],[0.7777777777777778,\"#fb9f3a\"],[0.8888888888888888,\"#fdca26\"],[1.0,\"#f0f921\"]]}],\"heatmapgl\":[{\"type\":\"heatmapgl\",\"colorbar\":{\"outlinewidth\":0,\"ticks\":\"\"},\"colorscale\":[[0.0,\"#0d0887\"],[0.1111111111111111,\"#46039f\"],[0.2222222222222222,\"#7201a8\"],[0.3333333333333333,\"#9c179e\"],[0.4444444444444444,\"#bd3786\"],[0.5555555555555556,\"#d8576b\"],[0.6666666666666666,\"#ed7953\"],[0.7777777777777778,\"#fb9f3a\"],[0.8888888888888888,\"#fdca26\"],[1.0,\"#f0f921\"]]}],\"contourcarpet\":[{\"type\":\"contourcarpet\",\"colorbar\":{\"outlinewidth\":0,\"ticks\":\"\"}}],\"contour\":[{\"type\":\"contour\",\"colorbar\":{\"outlinewidth\":0,\"ticks\":\"\"},\"colorscale\":[[0.0,\"#0d0887\"],[0.1111111111111111,\"#46039f\"],[0.2222222222222222,\"#7201a8\"],[0.3333333333333333,\"#9c179e\"],[0.4444444444444444,\"#bd3786\"],[0.5555555555555556,\"#d8576b\"],[0.6666666666666666,\"#ed7953\"],[0.7777777777777778,\"#fb9f3a\"],[0.8888888888888888,\"#fdca26\"],[1.0,\"#f0f921\"]]}],\"surface\":[{\"type\":\"surface\",\"colorbar\":{\"outlinewidth\":0,\"ticks\":\"\"},\"colorscale\":[[0.0,\"#0d0887\"],[0.1111111111111111,\"#46039f\"],[0.2222222222222222,\"#7201a8\"],[0.3333333333333333,\"#9c179e\"],[0.4444444444444444,\"#bd3786\"],[0.5555555555555556,\"#d8576b\"],[0.6666666666666666,\"#ed7953\"],[0.7777777777777778,\"#fb9f3a\"],[0.8888888888888888,\"#fdca26\"],[1.0,\"#f0f921\"]]}],\"mesh3d\":[{\"type\":\"mesh3d\",\"colorbar\":{\"outlinewidth\":0,\"ticks\":\"\"}}],\"scatter\":[{\"fillpattern\":{\"fillmode\":\"overlay\",\"size\":10,\"solidity\":0.2},\"type\":\"scatter\"}],\"parcoords\":[{\"type\":\"parcoords\",\"line\":{\"colorbar\":{\"outlinewidth\":0,\"ticks\":\"\"}}}],\"scatterpolargl\":[{\"type\":\"scatterpolargl\",\"marker\":{\"colorbar\":{\"outlinewidth\":0,\"ticks\":\"\"}}}],\"bar\":[{\"error_x\":{\"color\":\"#2a3f5f\"},\"error_y\":{\"color\":\"#2a3f5f\"},\"marker\":{\"line\":{\"color\":\"#E5ECF6\",\"width\":0.5},\"pattern\":{\"fillmode\":\"overlay\",\"size\":10,\"solidity\":0.2}},\"type\":\"bar\"}],\"scattergeo\":[{\"type\":\"scattergeo\",\"marker\":{\"colorbar\":{\"outlinewidth\":0,\"ticks\":\"\"}}}],\"scatterpolar\":[{\"type\":\"scatterpolar\",\"marker\":{\"colorbar\":{\"outlinewidth\":0,\"ticks\":\"\"}}}],\"histogram\":[{\"marker\":{\"pattern\":{\"fillmode\":\"overlay\",\"size\":10,\"solidity\":0.2}},\"type\":\"histogram\"}],\"scattergl\":[{\"type\":\"scattergl\",\"marker\":{\"colorbar\":{\"outlinewidth\":0,\"ticks\":\"\"}}}],\"scatter3d\":[{\"type\":\"scatter3d\",\"line\":{\"colorbar\":{\"outlinewidth\":0,\"ticks\":\"\"}},\"marker\":{\"colorbar\":{\"outlinewidth\":0,\"ticks\":\"\"}}}],\"scattermapbox\":[{\"type\":\"scattermapbox\",\"marker\":{\"colorbar\":{\"outlinewidth\":0,\"ticks\":\"\"}}}],\"scatterternary\":[{\"type\":\"scatterternary\",\"marker\":{\"colorbar\":{\"outlinewidth\":0,\"ticks\":\"\"}}}],\"scattercarpet\":[{\"type\":\"scattercarpet\",\"marker\":{\"colorbar\":{\"outlinewidth\":0,\"ticks\":\"\"}}}],\"carpet\":[{\"aaxis\":{\"endlinecolor\":\"#2a3f5f\",\"gridcolor\":\"white\",\"linecolor\":\"white\",\"minorgridcolor\":\"white\",\"startlinecolor\":\"#2a3f5f\"},\"baxis\":{\"endlinecolor\":\"#2a3f5f\",\"gridcolor\":\"white\",\"linecolor\":\"white\",\"minorgridcolor\":\"white\",\"startlinecolor\":\"#2a3f5f\"},\"type\":\"carpet\"}],\"table\":[{\"cells\":{\"fill\":{\"color\":\"#EBF0F8\"},\"line\":{\"color\":\"white\"}},\"header\":{\"fill\":{\"color\":\"#C8D4E3\"},\"line\":{\"color\":\"white\"}},\"type\":\"table\"}],\"barpolar\":[{\"marker\":{\"line\":{\"color\":\"#E5ECF6\",\"width\":0.5},\"pattern\":{\"fillmode\":\"overlay\",\"size\":10,\"solidity\":0.2}},\"type\":\"barpolar\"}],\"pie\":[{\"automargin\":true,\"type\":\"pie\"}]},\"layout\":{\"autotypenumbers\":\"strict\",\"colorway\":[\"#636efa\",\"#EF553B\",\"#00cc96\",\"#ab63fa\",\"#FFA15A\",\"#19d3f3\",\"#FF6692\",\"#B6E880\",\"#FF97FF\",\"#FECB52\"],\"font\":{\"color\":\"#2a3f5f\"},\"hovermode\":\"closest\",\"hoverlabel\":{\"align\":\"left\"},\"paper_bgcolor\":\"white\",\"plot_bgcolor\":\"#E5ECF6\",\"polar\":{\"bgcolor\":\"#E5ECF6\",\"angularaxis\":{\"gridcolor\":\"white\",\"linecolor\":\"white\",\"ticks\":\"\"},\"radialaxis\":{\"gridcolor\":\"white\",\"linecolor\":\"white\",\"ticks\":\"\"}},\"ternary\":{\"bgcolor\":\"#E5ECF6\",\"aaxis\":{\"gridcolor\":\"white\",\"linecolor\":\"white\",\"ticks\":\"\"},\"baxis\":{\"gridcolor\":\"white\",\"linecolor\":\"white\",\"ticks\":\"\"},\"caxis\":{\"gridcolor\":\"white\",\"linecolor\":\"white\",\"ticks\":\"\"}},\"coloraxis\":{\"colorbar\":{\"outlinewidth\":0,\"ticks\":\"\"}},\"colorscale\":{\"sequential\":[[0.0,\"#0d0887\"],[0.1111111111111111,\"#46039f\"],[0.2222222222222222,\"#7201a8\"],[0.3333333333333333,\"#9c179e\"],[0.4444444444444444,\"#bd3786\"],[0.5555555555555556,\"#d8576b\"],[0.6666666666666666,\"#ed7953\"],[0.7777777777777778,\"#fb9f3a\"],[0.8888888888888888,\"#fdca26\"],[1.0,\"#f0f921\"]],\"sequentialminus\":[[0.0,\"#0d0887\"],[0.1111111111111111,\"#46039f\"],[0.2222222222222222,\"#7201a8\"],[0.3333333333333333,\"#9c179e\"],[0.4444444444444444,\"#bd3786\"],[0.5555555555555556,\"#d8576b\"],[0.6666666666666666,\"#ed7953\"],[0.7777777777777778,\"#fb9f3a\"],[0.8888888888888888,\"#fdca26\"],[1.0,\"#f0f921\"]],\"diverging\":[[0,\"#8e0152\"],[0.1,\"#c51b7d\"],[0.2,\"#de77ae\"],[0.3,\"#f1b6da\"],[0.4,\"#fde0ef\"],[0.5,\"#f7f7f7\"],[0.6,\"#e6f5d0\"],[0.7,\"#b8e186\"],[0.8,\"#7fbc41\"],[0.9,\"#4d9221\"],[1,\"#276419\"]]},\"xaxis\":{\"gridcolor\":\"white\",\"linecolor\":\"white\",\"ticks\":\"\",\"title\":{\"standoff\":15},\"zerolinecolor\":\"white\",\"automargin\":true,\"zerolinewidth\":2},\"yaxis\":{\"gridcolor\":\"white\",\"linecolor\":\"white\",\"ticks\":\"\",\"title\":{\"standoff\":15},\"zerolinecolor\":\"white\",\"automargin\":true,\"zerolinewidth\":2},\"scene\":{\"xaxis\":{\"backgroundcolor\":\"#E5ECF6\",\"gridcolor\":\"white\",\"linecolor\":\"white\",\"showbackground\":true,\"ticks\":\"\",\"zerolinecolor\":\"white\",\"gridwidth\":2},\"yaxis\":{\"backgroundcolor\":\"#E5ECF6\",\"gridcolor\":\"white\",\"linecolor\":\"white\",\"showbackground\":true,\"ticks\":\"\",\"zerolinecolor\":\"white\",\"gridwidth\":2},\"zaxis\":{\"backgroundcolor\":\"#E5ECF6\",\"gridcolor\":\"white\",\"linecolor\":\"white\",\"showbackground\":true,\"ticks\":\"\",\"zerolinecolor\":\"white\",\"gridwidth\":2}},\"shapedefaults\":{\"line\":{\"color\":\"#2a3f5f\"}},\"annotationdefaults\":{\"arrowcolor\":\"#2a3f5f\",\"arrowhead\":0,\"arrowwidth\":1},\"geo\":{\"bgcolor\":\"white\",\"landcolor\":\"#E5ECF6\",\"subunitcolor\":\"white\",\"showland\":true,\"showlakes\":true,\"lakecolor\":\"white\"},\"title\":{\"x\":0.05},\"mapbox\":{\"style\":\"light\"}}},\"coloraxis\":{\"colorbar\":{\"title\":{\"text\":\"incident_count\"}},\"colorscale\":[[0.0,\"rgb(247,251,255)\"],[0.125,\"rgb(222,235,247)\"],[0.25,\"rgb(198,219,239)\"],[0.375,\"rgb(158,202,225)\"],[0.5,\"rgb(107,174,214)\"],[0.625,\"rgb(66,146,198)\"],[0.75,\"rgb(33,113,181)\"],[0.875,\"rgb(8,81,156)\"],[1.0,\"rgb(8,48,107)\"]]},\"legend\":{\"tracegroupgap\":0},\"margin\":{\"t\":60}},                        {\"responsive\": true}                    ).then(function(){\n",
              "                            \n",
              "var gd = document.getElementById('80aa841f-5aab-47c3-87bd-f371d35db97c');\n",
              "var x = new MutationObserver(function (mutations, observer) {{\n",
              "        var display = window.getComputedStyle(gd).display;\n",
              "        if (!display || display === 'none') {{\n",
              "            console.log([gd, 'removed!']);\n",
              "            Plotly.purge(gd);\n",
              "            observer.disconnect();\n",
              "        }}\n",
              "}});\n",
              "\n",
              "// Listen for the removal of the full notebook cells\n",
              "var notebookContainer = gd.closest('#notebook-container');\n",
              "if (notebookContainer) {{\n",
              "    x.observe(notebookContainer, {childList: true});\n",
              "}}\n",
              "\n",
              "// Listen for the clearing of the current output cell\n",
              "var outputEl = gd.closest('.output');\n",
              "if (outputEl) {{\n",
              "    x.observe(outputEl, {childList: true});\n",
              "}}\n",
              "\n",
              "                        })                };                            </script>        </div>\n",
              "</body>\n",
              "</html>"
            ]
          },
          "metadata": {},
          "output_type": "display_data"
        },
        {
          "name": "stdout",
          "output_type": "stream",
          "text": [
            "       antecedents      consequents  antecedent support  consequent support  \\\n",
            "0           (eggs)  (mineral water)            0.179709            0.238368   \n",
            "1  (mineral water)           (eggs)            0.238368            0.179709   \n",
            "2  (mineral water)      (spaghetti)            0.238368            0.174110   \n",
            "3      (spaghetti)  (mineral water)            0.174110            0.238368   \n",
            "4  (mineral water)      (chocolate)            0.238368            0.163845   \n",
            "5      (chocolate)  (mineral water)            0.163845            0.238368   \n",
            "\n",
            "    support  confidence      lift  leverage  conviction  zhangs_metric  \n",
            "0  0.050927    0.283383  1.188845  0.008090    1.062815       0.193648  \n",
            "1  0.050927    0.213647  1.188845  0.008090    1.043158       0.208562  \n",
            "2  0.059725    0.250559  1.439085  0.018223    1.102008       0.400606  \n",
            "3  0.059725    0.343032  1.439085  0.018223    1.159314       0.369437  \n",
            "4  0.052660    0.220917  1.348332  0.013604    1.073256       0.339197  \n",
            "5  0.052660    0.321400  1.348332  0.013604    1.122357       0.308965  \n",
            "       antecedents      consequents  antecedent support  consequent support  \\\n",
            "3      (spaghetti)  (mineral water)            0.174110            0.238368   \n",
            "5      (chocolate)  (mineral water)            0.163845            0.238368   \n",
            "0           (eggs)  (mineral water)            0.179709            0.238368   \n",
            "2  (mineral water)      (spaghetti)            0.238368            0.174110   \n",
            "4  (mineral water)      (chocolate)            0.238368            0.163845   \n",
            "1  (mineral water)           (eggs)            0.238368            0.179709   \n",
            "\n",
            "    support  confidence      lift  leverage  conviction  zhangs_metric  \n",
            "3  0.059725    0.343032  1.439085  0.018223    1.159314       0.369437  \n",
            "5  0.052660    0.321400  1.348332  0.013604    1.122357       0.308965  \n",
            "0  0.050927    0.283383  1.188845  0.008090    1.062815       0.193648  \n",
            "2  0.059725    0.250559  1.439085  0.018223    1.102008       0.400606  \n",
            "4  0.052660    0.220917  1.348332  0.013604    1.073256       0.339197  \n",
            "1  0.050927    0.213647  1.188845  0.008090    1.043158       0.208562  \n"
          ]
        }
      ],
      "source": [
        "import pandas as pd\n",
        "import numpy as np\n",
        "from mlxtend.preprocessing import TransactionEncoder\n",
        "from mlxtend.frequent_patterns import fpgrowth, association_rules\n",
        "import plotly.express as px\n",
        "\n",
        "# Load dataset\n",
        "dataset = pd.read_csv(\"Market_Basket_Optimisation.csv\", header=None)\n",
        "\n",
        "# Gather all items of each transaction into a list of lists\n",
        "transactions = []\n",
        "for i in range(dataset.shape[0]):\n",
        "    for item in dataset.iloc[i, :]:\n",
        "        if pd.notna([item]):\n",
        "            transactions.append(str[item])\n",
        "\n",
        "# Convert transactions to a format suitable for the TransactionEncoder\n",
        "te = TransactionEncoder()\n",
        "te_ary = te.fit(transactions).transform(transactions)\n",
        "df = pd.DataFrame(te_ary, columns=te.columns_)\n",
        "\n",
        "# Encode and create a DataFrame with item counts\n",
        "item_counts = df.sum().reset_index()\n",
        "item_counts.columns = ['item', 'incident_count']\n",
        "item_counts = item_counts.sort_values('incident_count', ascending=False)\n",
        "\n",
        "# Display top 5 items\n",
        "item_counts.head(5).style.background_gradient(cmap='Blues')\n",
        "\n",
        "# Plot a treemap of the top 50 items\n",
        "fig = px.treemap(item_counts.head(50), path=['item'], values='incident_count',\n",
        "                  color='incident_count', hover_data=['item'],\n",
        "                  color_continuous_scale='Blues',\n",
        "                )\n",
        "fig.show()\n",
        "\n",
        "# Select top 30 items for further analysis\n",
        "top_items = item_counts['item'].head(30).values\n",
        "df_top_items = df[top_items]\n",
        "\n",
        "# Apply FP-Growth algorithm\n",
        "frequent_itemsets = fpgrowth(df_top_items, min_support=0.05, use_colnames=True)\n",
        "\n",
        "# Generate association rules\n",
        "rules = association_rules(frequent_itemsets, metric=\"lift\", min_threshold=1)\n",
        "\n",
        "# Print top 10 association rules\n",
        "print(rules.head(10))\n",
        "\n",
        "# Sort association rules based on confidence\n",
        "rules_sorted = rules.sort_values(\"confidence\", ascending=False)\n",
        "print(rules_sorted)\n"
      ]
    }
  ],
  "metadata": {
    "colab": {
      "provenance": []
    },
    "kernelspec": {
      "display_name": "Python 3",
      "name": "python3"
    },
    "language_info": {
      "name": "python"
    }
  },
  "nbformat": 4,
  "nbformat_minor": 0
}
