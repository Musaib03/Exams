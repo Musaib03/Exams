{
  "cells": [
    {
      "cell_type": "markdown",
      "source": [
        "DATA MINING\n",
        "MUSAIB MAQBOOL WANI 22BIT038"
      ],
      "metadata": {
        "id": "LQxzf6ZqZhI2"
      }
    },
    {
      "cell_type": "code",
      "source": [
        "import pandas as pd\n",
        "df = pd.read_csv(\"nba.csv\")\n",
        "df[:10]"
      ],
      "outputs": [
        {
          "output_type": "execute_result",
          "execution_count": 1,
          "data": {
            "text/plain": "            Name            Team  Number Position   Age Height  Weight  \\\n0  Avery Bradley  Boston Celtics     0.0       PG  25.0    6-2   180.0   \n1    Jae Crowder  Boston Celtics    99.0       SF  25.0    6-6   235.0   \n2   John Holland  Boston Celtics    30.0       SG  27.0    6-5   205.0   \n3    R.J. Hunter  Boston Celtics    28.0       SG  22.0    6-5   185.0   \n4  Jonas Jerebko  Boston Celtics     8.0       PF  29.0   6-10   231.0   \n5   Amir Johnson  Boston Celtics    90.0       PF  29.0    6-9   240.0   \n6  Jordan Mickey  Boston Celtics    55.0       PF  21.0    6-8   235.0   \n7   Kelly Olynyk  Boston Celtics    41.0        C  25.0    7-0   238.0   \n8   Terry Rozier  Boston Celtics    12.0       PG  22.0    6-2   190.0   \n9   Marcus Smart  Boston Celtics    36.0       PG  22.0    6-4   220.0   \n\n             College      Salary  \n0              Texas   7730337.0  \n1          Marquette   6796117.0  \n2  Boston University         NaN  \n3      Georgia State   1148640.0  \n4                NaN   5000000.0  \n5                NaN  12000000.0  \n6                LSU   1170960.0  \n7            Gonzaga   2165160.0  \n8         Louisville   1824360.0  \n9     Oklahoma State   3431040.0  ",
            "text/html": "\n  <div id=\"df-6d1cae3b-a1cc-49c1-abec-f08c7792e16d\" class=\"colab-df-container\">\n    <div>\n<style scoped>\n    .dataframe tbody tr th:only-of-type {\n        vertical-align: middle;\n    }\n\n    .dataframe tbody tr th {\n        vertical-align: top;\n    }\n\n    .dataframe thead th {\n        text-align: right;\n    }\n</style>\n<table border=\"1\" class=\"dataframe\">\n  <thead>\n    <tr style=\"text-align: right;\">\n      <th></th>\n      <th>Name</th>\n      <th>Team</th>\n      <th>Number</th>\n      <th>Position</th>\n      <th>Age</th>\n      <th>Height</th>\n      <th>Weight</th>\n      <th>College</th>\n      <th>Salary</th>\n    </tr>\n  </thead>\n  <tbody>\n    <tr>\n      <th>0</th>\n      <td>Avery Bradley</td>\n      <td>Boston Celtics</td>\n      <td>0.0</td>\n      <td>PG</td>\n      <td>25.0</td>\n      <td>6-2</td>\n      <td>180.0</td>\n      <td>Texas</td>\n      <td>7730337.0</td>\n    </tr>\n    <tr>\n      <th>1</th>\n      <td>Jae Crowder</td>\n      <td>Boston Celtics</td>\n      <td>99.0</td>\n      <td>SF</td>\n      <td>25.0</td>\n      <td>6-6</td>\n      <td>235.0</td>\n      <td>Marquette</td>\n      <td>6796117.0</td>\n    </tr>\n    <tr>\n      <th>2</th>\n      <td>John Holland</td>\n      <td>Boston Celtics</td>\n      <td>30.0</td>\n      <td>SG</td>\n      <td>27.0</td>\n      <td>6-5</td>\n      <td>205.0</td>\n      <td>Boston University</td>\n      <td>NaN</td>\n    </tr>\n    <tr>\n      <th>3</th>\n      <td>R.J. Hunter</td>\n      <td>Boston Celtics</td>\n      <td>28.0</td>\n      <td>SG</td>\n      <td>22.0</td>\n      <td>6-5</td>\n      <td>185.0</td>\n      <td>Georgia State</td>\n      <td>1148640.0</td>\n    </tr>\n    <tr>\n      <th>4</th>\n      <td>Jonas Jerebko</td>\n      <td>Boston Celtics</td>\n      <td>8.0</td>\n      <td>PF</td>\n      <td>29.0</td>\n      <td>6-10</td>\n      <td>231.0</td>\n      <td>NaN</td>\n      <td>5000000.0</td>\n    </tr>\n    <tr>\n      <th>5</th>\n      <td>Amir Johnson</td>\n      <td>Boston Celtics</td>\n      <td>90.0</td>\n      <td>PF</td>\n      <td>29.0</td>\n      <td>6-9</td>\n      <td>240.0</td>\n      <td>NaN</td>\n      <td>12000000.0</td>\n    </tr>\n    <tr>\n      <th>6</th>\n      <td>Jordan Mickey</td>\n      <td>Boston Celtics</td>\n      <td>55.0</td>\n      <td>PF</td>\n      <td>21.0</td>\n      <td>6-8</td>\n      <td>235.0</td>\n      <td>LSU</td>\n      <td>1170960.0</td>\n    </tr>\n    <tr>\n      <th>7</th>\n      <td>Kelly Olynyk</td>\n      <td>Boston Celtics</td>\n      <td>41.0</td>\n      <td>C</td>\n      <td>25.0</td>\n      <td>7-0</td>\n      <td>238.0</td>\n      <td>Gonzaga</td>\n      <td>2165160.0</td>\n    </tr>\n    <tr>\n      <th>8</th>\n      <td>Terry Rozier</td>\n      <td>Boston Celtics</td>\n      <td>12.0</td>\n      <td>PG</td>\n      <td>22.0</td>\n      <td>6-2</td>\n      <td>190.0</td>\n      <td>Louisville</td>\n      <td>1824360.0</td>\n    </tr>\n    <tr>\n      <th>9</th>\n      <td>Marcus Smart</td>\n      <td>Boston Celtics</td>\n      <td>36.0</td>\n      <td>PG</td>\n      <td>22.0</td>\n      <td>6-4</td>\n      <td>220.0</td>\n      <td>Oklahoma State</td>\n      <td>3431040.0</td>\n    </tr>\n  </tbody>\n</table>\n</div>\n    <div class=\"colab-df-buttons\">\n\n  <div class=\"colab-df-container\">\n    <button class=\"colab-df-convert\" onclick=\"convertToInteractive('df-6d1cae3b-a1cc-49c1-abec-f08c7792e16d')\"\n            title=\"Convert this dataframe to an interactive table.\"\n            style=\"display:none;\">\n\n  <svg xmlns=\"http://www.w3.org/2000/svg\" height=\"24px\" viewBox=\"0 -960 960 960\">\n    <path d=\"M120-120v-720h720v720H120Zm60-500h600v-160H180v160Zm220 220h160v-160H400v160Zm0 220h160v-160H400v160ZM180-400h160v-160H180v160Zm440 0h160v-160H620v160ZM180-180h160v-160H180v160Zm440 0h160v-160H620v160Z\"/>\n  </svg>\n    </button>\n\n  <style>\n    .colab-df-container {\n      display:flex;\n      gap: 12px;\n    }\n\n    .colab-df-convert {\n      background-color: #E8F0FE;\n      border: none;\n      border-radius: 50%;\n      cursor: pointer;\n      display: none;\n      fill: #1967D2;\n      height: 32px;\n      padding: 0 0 0 0;\n      width: 32px;\n    }\n\n    .colab-df-convert:hover {\n      background-color: #E2EBFA;\n      box-shadow: 0px 1px 2px rgba(60, 64, 67, 0.3), 0px 1px 3px 1px rgba(60, 64, 67, 0.15);\n      fill: #174EA6;\n    }\n\n    .colab-df-buttons div {\n      margin-bottom: 4px;\n    }\n\n    [theme=dark] .colab-df-convert {\n      background-color: #3B4455;\n      fill: #D2E3FC;\n    }\n\n    [theme=dark] .colab-df-convert:hover {\n      background-color: #434B5C;\n      box-shadow: 0px 1px 3px 1px rgba(0, 0, 0, 0.15);\n      filter: drop-shadow(0px 1px 2px rgba(0, 0, 0, 0.3));\n      fill: #FFFFFF;\n    }\n  </style>\n\n    <script>\n      const buttonEl =\n        document.querySelector('#df-6d1cae3b-a1cc-49c1-abec-f08c7792e16d button.colab-df-convert');\n      buttonEl.style.display =\n        google.colab.kernel.accessAllowed ? 'block' : 'none';\n\n      async function convertToInteractive(key) {\n        const element = document.querySelector('#df-6d1cae3b-a1cc-49c1-abec-f08c7792e16d');\n        const dataTable =\n          await google.colab.kernel.invokeFunction('convertToInteractive',\n                                                    [key], {});\n        if (!dataTable) return;\n\n        const docLinkHtml = 'Like what you see? Visit the ' +\n          '<a target=\"_blank\" href=https://colab.research.google.com/notebooks/data_table.ipynb>data table notebook</a>'\n          + ' to learn more about interactive tables.';\n        element.innerHTML = '';\n        dataTable['output_type'] = 'display_data';\n        await google.colab.output.renderOutput(dataTable, element);\n        const docLink = document.createElement('div');\n        docLink.innerHTML = docLinkHtml;\n        element.appendChild(docLink);\n      }\n    </script>\n  </div>\n\n\n<div id=\"df-af3da6da-734f-425c-a97b-b576b18b28b2\">\n  <button class=\"colab-df-quickchart\" onclick=\"quickchart('df-af3da6da-734f-425c-a97b-b576b18b28b2')\"\n            title=\"Suggest charts\"\n            style=\"display:none;\">\n\n<svg xmlns=\"http://www.w3.org/2000/svg\" height=\"24px\"viewBox=\"0 0 24 24\"\n     width=\"24px\">\n    <g>\n        <path d=\"M19 3H5c-1.1 0-2 .9-2 2v14c0 1.1.9 2 2 2h14c1.1 0 2-.9 2-2V5c0-1.1-.9-2-2-2zM9 17H7v-7h2v7zm4 0h-2V7h2v10zm4 0h-2v-4h2v4z\"/>\n    </g>\n</svg>\n  </button>\n\n<style>\n  .colab-df-quickchart {\n      --bg-color: #E8F0FE;\n      --fill-color: #1967D2;\n      --hover-bg-color: #E2EBFA;\n      --hover-fill-color: #174EA6;\n      --disabled-fill-color: #AAA;\n      --disabled-bg-color: #DDD;\n  }\n\n  [theme=dark] .colab-df-quickchart {\n      --bg-color: #3B4455;\n      --fill-color: #D2E3FC;\n      --hover-bg-color: #434B5C;\n      --hover-fill-color: #FFFFFF;\n      --disabled-bg-color: #3B4455;\n      --disabled-fill-color: #666;\n  }\n\n  .colab-df-quickchart {\n    background-color: var(--bg-color);\n    border: none;\n    border-radius: 50%;\n    cursor: pointer;\n    display: none;\n    fill: var(--fill-color);\n    height: 32px;\n    padding: 0;\n    width: 32px;\n  }\n\n  .colab-df-quickchart:hover {\n    background-color: var(--hover-bg-color);\n    box-shadow: 0 1px 2px rgba(60, 64, 67, 0.3), 0 1px 3px 1px rgba(60, 64, 67, 0.15);\n    fill: var(--button-hover-fill-color);\n  }\n\n  .colab-df-quickchart-complete:disabled,\n  .colab-df-quickchart-complete:disabled:hover {\n    background-color: var(--disabled-bg-color);\n    fill: var(--disabled-fill-color);\n    box-shadow: none;\n  }\n\n  .colab-df-spinner {\n    border: 2px solid var(--fill-color);\n    border-color: transparent;\n    border-bottom-color: var(--fill-color);\n    animation:\n      spin 1s steps(1) infinite;\n  }\n\n  @keyframes spin {\n    0% {\n      border-color: transparent;\n      border-bottom-color: var(--fill-color);\n      border-left-color: var(--fill-color);\n    }\n    20% {\n      border-color: transparent;\n      border-left-color: var(--fill-color);\n      border-top-color: var(--fill-color);\n    }\n    30% {\n      border-color: transparent;\n      border-left-color: var(--fill-color);\n      border-top-color: var(--fill-color);\n      border-right-color: var(--fill-color);\n    }\n    40% {\n      border-color: transparent;\n      border-right-color: var(--fill-color);\n      border-top-color: var(--fill-color);\n    }\n    60% {\n      border-color: transparent;\n      border-right-color: var(--fill-color);\n    }\n    80% {\n      border-color: transparent;\n      border-right-color: var(--fill-color);\n      border-bottom-color: var(--fill-color);\n    }\n    90% {\n      border-color: transparent;\n      border-bottom-color: var(--fill-color);\n    }\n  }\n</style>\n\n  <script>\n    async function quickchart(key) {\n      const quickchartButtonEl =\n        document.querySelector('#' + key + ' button');\n      quickchartButtonEl.disabled = true;  // To prevent multiple clicks.\n      quickchartButtonEl.classList.add('colab-df-spinner');\n      try {\n        const charts = await google.colab.kernel.invokeFunction(\n            'suggestCharts', [key], {});\n      } catch (error) {\n        console.error('Error during call to suggestCharts:', error);\n      }\n      quickchartButtonEl.classList.remove('colab-df-spinner');\n      quickchartButtonEl.classList.add('colab-df-quickchart-complete');\n    }\n    (() => {\n      let quickchartButtonEl =\n        document.querySelector('#df-af3da6da-734f-425c-a97b-b576b18b28b2 button');\n      quickchartButtonEl.style.display =\n        google.colab.kernel.accessAllowed ? 'block' : 'none';\n    })();\n  </script>\n</div>\n\n    </div>\n  </div>\n",
            "application/vnd.google.colaboratory.intrinsic+json": {
              "type": "dataframe",
              "summary": "{\n  \"name\": \"df[:10]\",\n  \"rows\": 10,\n  \"fields\": [\n    {\n      \"column\": \"Name\",\n      \"properties\": {\n        \"dtype\": \"string\",\n        \"num_unique_values\": 10,\n        \"samples\": [\n          \"Terry Rozier\",\n          \"Jae Crowder\",\n          \"Amir Johnson\"\n        ],\n        \"semantic_type\": \"\",\n        \"description\": \"\"\n      }\n    },\n    {\n      \"column\": \"Team\",\n      \"properties\": {\n        \"dtype\": \"category\",\n        \"num_unique_values\": 1,\n        \"samples\": [\n          \"Boston Celtics\"\n        ],\n        \"semantic_type\": \"\",\n        \"description\": \"\"\n      }\n    },\n    {\n      \"column\": \"Number\",\n      \"properties\": {\n        \"dtype\": \"number\",\n        \"std\": 33.124177138626564,\n        \"min\": 0.0,\n        \"max\": 99.0,\n        \"num_unique_values\": 10,\n        \"samples\": [\n          12.0\n        ],\n        \"semantic_type\": \"\",\n        \"description\": \"\"\n      }\n    },\n    {\n      \"column\": \"Position\",\n      \"properties\": {\n        \"dtype\": \"string\",\n        \"num_unique_values\": 5,\n        \"samples\": [\n          \"SF\"\n        ],\n        \"semantic_type\": \"\",\n        \"description\": \"\"\n      }\n    },\n    {\n      \"column\": \"Age\",\n      \"properties\": {\n        \"dtype\": \"number\",\n        \"std\": 2.94580681270476,\n        \"min\": 21.0,\n        \"max\": 29.0,\n        \"num_unique_values\": 5,\n        \"samples\": [\n          27.0\n        ],\n        \"semantic_type\": \"\",\n        \"description\": \"\"\n      }\n    },\n    {\n      \"column\": \"Height\",\n      \"properties\": {\n        \"dtype\": \"string\",\n        \"num_unique_values\": 8,\n        \"samples\": [\n          \"6-6\"\n        ],\n        \"semantic_type\": \"\",\n        \"description\": \"\"\n      }\n    },\n    {\n      \"column\": \"Weight\",\n      \"properties\": {\n        \"dtype\": \"number\",\n        \"std\": 23.7507894605632,\n        \"min\": 180.0,\n        \"max\": 240.0,\n        \"num_unique_values\": 9,\n        \"samples\": [\n          190.0\n        ],\n        \"semantic_type\": \"\",\n        \"description\": \"\"\n      }\n    },\n    {\n      \"column\": \"College\",\n      \"properties\": {\n        \"dtype\": \"string\",\n        \"num_unique_values\": 8,\n        \"samples\": [\n          \"Marquette\"\n        ],\n        \"semantic_type\": \"\",\n        \"description\": \"\"\n      }\n    },\n    {\n      \"column\": \"Salary\",\n      \"properties\": {\n        \"dtype\": \"number\",\n        \"std\": 3677792.3852124596,\n        \"min\": 1148640.0,\n        \"max\": 12000000.0,\n        \"num_unique_values\": 9,\n        \"samples\": [\n          1824360.0\n        ],\n        \"semantic_type\": \"\",\n        \"description\": \"\"\n      }\n    }\n  ]\n}"
            }
          },
          "metadata": {}
        }
      ],
      "execution_count": null,
      "metadata": {
        "colab": {
          "base_uri": "https://localhost:8080/",
          "height": 363
        },
        "id": "V0bcvaACZolq",
        "outputId": "26733f16-2d2b-49b7-c2d5-f9b5c7ebb79b"
      }
    },
    {
      "cell_type": "code",
      "source": [
        "import pandas as pd\n",
        "\n",
        "df = pd.read_csv(\"nba.csv\")\n",
        "\n",
        "# Select only numeric columns\n",
        "df_numeric = df.select_dtypes(include=[float, int])\n",
        "\n",
        "# Check if there are any numeric columns to avoid empty DataFrame issues\n",
        "if df_numeric.empty:\n",
        "    print(\"No numeric columns available for correlation calculation.\")\n",
        "else:\n",
        "    pearson_corr = df_numeric.corr(method='pearson')\n",
        "    print(\"Pearson Correlation Matrix:\")\n",
        "    print(pearson_corr)\n",
        "\n",
        "    kendall_corr = df_numeric.corr(method='kendall')\n",
        "    print(\"Kendall Correlation Matrix:\")\n",
        "    print(kendall_corr)\n"
      ],
      "outputs": [
        {
          "output_type": "stream",
          "name": "stdout",
          "text": "            Name            Team  Number Position   Age Height  Weight  \\\n0  Avery Bradley  Boston Celtics     0.0       PG  25.0    6-2   180.0   \n1    Jae Crowder  Boston Celtics    99.0       SF  25.0    6-6   235.0   \n2   John Holland  Boston Celtics    30.0       SG  27.0    6-5   205.0   \n3    R.J. Hunter  Boston Celtics    28.0       SG  22.0    6-5   185.0   \n4  Jonas Jerebko  Boston Celtics     8.0       PF  29.0   6-10   231.0   \n5   Amir Johnson  Boston Celtics    90.0       PF  29.0    6-9   240.0   \n6  Jordan Mickey  Boston Celtics    55.0       PF  21.0    6-8   235.0   \n7   Kelly Olynyk  Boston Celtics    41.0        C  25.0    7-0   238.0   \n8   Terry Rozier  Boston Celtics    12.0       PG  22.0    6-2   190.0   \n9   Marcus Smart  Boston Celtics    36.0       PG  22.0    6-4   220.0   \n\n             College      Salary  \n0              Texas   7730337.0  \n1          Marquette   6796117.0  \n2  Boston University         NaN  \n3      Georgia State   1148640.0  \n4                NaN   5000000.0  \n5                NaN  12000000.0  \n6                LSU   1170960.0  \n7            Gonzaga   2165160.0  \n8         Louisville   1824360.0  \n9     Oklahoma State   3431040.0  \nPearson Correlation Matrix:\n          Number       Age    Weight    Salary\nNumber  1.000000  0.028724  0.206921 -0.112386\nAge     0.028724  1.000000  0.087183  0.213459\nWeight  0.206921  0.087183  1.000000  0.138321\nSalary -0.112386  0.213459  0.138321  1.000000\nKendall Correlation Matrix:\n          Number       Age    Weight    Salary\nNumber  1.000000  0.005536  0.155850 -0.075301\nAge     0.005536  1.000000  0.066130  0.172616\nWeight  0.155850  0.066130  1.000000  0.087165\nSalary -0.075301  0.172616  0.087165  1.000000\n"
        }
      ],
      "execution_count": null,
      "metadata": {
        "colab": {
          "base_uri": "https://localhost:8080/"
        },
        "id": "d5u4pVHWbJJH",
        "outputId": "7e7c1e79-f485-481f-8d41-1a8cc343366d"
      }
    },
    {
      "cell_type": "code",
      "source": [
        "import pandas as pd\n",
        "df = pd.read_csv(\"nba.csv\")\n",
        "print(df.describe())\n",
        "print(df.head(10))"
      ],
      "outputs": [
        {
          "output_type": "stream",
          "name": "stdout",
          "text": "           Number         Age      Weight        Salary\ncount  457.000000  457.000000  457.000000  4.460000e+02\nmean    17.678337   26.938731  221.522976  4.842684e+06\nstd     15.966090    4.404016   26.368343  5.229238e+06\nmin      0.000000   19.000000  161.000000  3.088800e+04\n25%      5.000000   24.000000  200.000000  1.044792e+06\n50%     13.000000   26.000000  220.000000  2.839073e+06\n75%     25.000000   30.000000  240.000000  6.500000e+06\nmax     99.000000   40.000000  307.000000  2.500000e+07\n            Name            Team  Number Position   Age Height  Weight  \\\n0  Avery Bradley  Boston Celtics     0.0       PG  25.0    6-2   180.0   \n1    Jae Crowder  Boston Celtics    99.0       SF  25.0    6-6   235.0   \n2   John Holland  Boston Celtics    30.0       SG  27.0    6-5   205.0   \n3    R.J. Hunter  Boston Celtics    28.0       SG  22.0    6-5   185.0   \n4  Jonas Jerebko  Boston Celtics     8.0       PF  29.0   6-10   231.0   \n5   Amir Johnson  Boston Celtics    90.0       PF  29.0    6-9   240.0   \n6  Jordan Mickey  Boston Celtics    55.0       PF  21.0    6-8   235.0   \n7   Kelly Olynyk  Boston Celtics    41.0        C  25.0    7-0   238.0   \n8   Terry Rozier  Boston Celtics    12.0       PG  22.0    6-2   190.0   \n9   Marcus Smart  Boston Celtics    36.0       PG  22.0    6-4   220.0   \n\n             College      Salary  \n0              Texas   7730337.0  \n1          Marquette   6796117.0  \n2  Boston University         NaN  \n3      Georgia State   1148640.0  \n4                NaN   5000000.0  \n5                NaN  12000000.0  \n6                LSU   1170960.0  \n7            Gonzaga   2165160.0  \n8         Louisville   1824360.0  \n9     Oklahoma State   3431040.0  \n"
        }
      ],
      "execution_count": null,
      "metadata": {
        "colab": {
          "base_uri": "https://localhost:8080/"
        },
        "id": "83eVxsVVcU0B",
        "outputId": "c0e99666-cd98-44b9-afdf-5df6c33803e9"
      }
    },
    {
      "cell_type": "code",
      "source": [
        "import pandas as pd\n",
        "d1 = pd.read_csv(\"Diabetes1.csv\")\n",
        "print(d1.describe())\n",
        "print(d1.head(10))"
      ],
      "outputs": [
        {
          "output_type": "stream",
          "name": "stdout",
          "text": "         Pregnant     Glucose  Diastolic_BP   Skin_Fold  Serum_Insulin  \\\ncount  768.000000  763.000000    733.000000  541.000000     394.000000   \nmean     3.845052  121.686763     72.405184   29.153420     155.548223   \nstd      3.369578   30.535641     12.382158   10.476982     118.775855   \nmin      0.000000   44.000000     24.000000    7.000000      14.000000   \n25%      1.000000   99.000000     64.000000   22.000000      76.250000   \n50%      3.000000  117.000000     72.000000   29.000000     125.000000   \n75%      6.000000  141.000000     80.000000   36.000000     190.000000   \nmax     17.000000  199.000000    122.000000   99.000000     846.000000   \n\n              BMI  Diabetes_Pedigree         Age       Class  \ncount  757.000000         768.000000  768.000000  768.000000  \nmean    32.457464           0.471876   33.240885    0.348958  \nstd      6.924988           0.331329   11.760232    0.476951  \nmin     18.200000           0.078000   21.000000    0.000000  \n25%     27.500000           0.243750   24.000000    0.000000  \n50%     32.300000           0.372500   29.000000    0.000000  \n75%     36.600000           0.626250   41.000000    1.000000  \nmax     67.100000           2.420000   81.000000    1.000000  \n   Pregnant  Glucose  Diastolic_BP  Skin_Fold  Serum_Insulin   BMI  \\\n0         6    148.0          72.0       35.0            NaN  33.6   \n1         1     85.0          66.0       29.0            NaN  26.6   \n2         8    183.0          64.0        NaN            NaN  23.3   \n3         1     89.0          66.0       23.0           94.0  28.1   \n4         0    137.0          40.0       35.0          168.0  43.1   \n5         5    116.0          74.0        NaN            NaN  25.6   \n6         3     78.0          50.0       32.0           88.0  31.0   \n7        10    115.0           NaN        NaN            NaN  35.3   \n8         2    197.0          70.0       45.0          543.0  30.5   \n9         8    125.0          96.0        NaN            NaN   NaN   \n\n   Diabetes_Pedigree  Age  Class  \n0              0.627   50      1  \n1              0.351   31      0  \n2              0.672   32      1  \n3              0.167   21      0  \n4              2.288   33      1  \n5              0.201   30      0  \n6              0.248   26      1  \n7              0.134   29      0  \n8              0.158   53      1  \n9              0.232   54      1  \n"
        }
      ],
      "execution_count": 11,
      "metadata": {
        "id": "8SdomNCVer_7",
        "colab": {
          "base_uri": "https://localhost:8080/"
        },
        "outputId": "5351e469-8c1d-4f54-e127-2304f9e9e16d"
      }
    },
    {
      "cell_type": "code",
      "source": [
        "import pandas as pd\n",
        "d1 = pd.read_csv(\"Diabetes1.csv\")\n",
        "print(d1.isnull())"
      ],
      "outputs": [
        {
          "output_type": "stream",
          "name": "stdout",
          "text": "     Pregnant  Glucose  Diastolic_BP  Skin_Fold  Serum_Insulin    BMI  \\\n0       False    False         False      False           True  False   \n1       False    False         False      False           True  False   \n2       False    False         False       True           True  False   \n3       False    False         False      False          False  False   \n4       False    False         False      False          False  False   \n..        ...      ...           ...        ...            ...    ...   \n763     False    False         False      False          False  False   \n764     False    False         False      False           True  False   \n765     False    False         False      False          False  False   \n766     False    False         False       True           True  False   \n767     False    False         False      False           True  False   \n\n     Diabetes_Pedigree    Age  Class  \n0                False  False  False  \n1                False  False  False  \n2                False  False  False  \n3                False  False  False  \n4                False  False  False  \n..                 ...    ...    ...  \n763              False  False  False  \n764              False  False  False  \n765              False  False  False  \n766              False  False  False  \n767              False  False  False  \n\n[768 rows x 9 columns]\n"
        }
      ],
      "execution_count": 14,
      "metadata": {
        "colab": {
          "base_uri": "https://localhost:8080/"
        },
        "id": "2Od4B9Ghfj41",
        "outputId": "c7e71a7e-9fe5-4304-ca8e-6c7d570fc45d"
      }
    },
    {
      "cell_type": "code",
      "source": [
        "# a. Delete missing entries\n",
        "import pandas as pd\n",
        "d1 = pd.read_csv(\"Diabetes1.csv\")\n",
        "df_no_missing = d1.dropna()\n",
        "print(\"\\nDataFrame after deleting missing entries:\")\n",
        "print(df_no_missing)"
      ],
      "outputs": [
        {
          "output_type": "stream",
          "name": "stdout",
          "text": "\nDataFrame after deleting missing entries:\n     Pregnant  Glucose  Diastolic_BP  Skin_Fold  Serum_Insulin   BMI  \\\n3           1     89.0          66.0       23.0           94.0  28.1   \n4           0    137.0          40.0       35.0          168.0  43.1   \n6           3     78.0          50.0       32.0           88.0  31.0   \n8           2    197.0          70.0       45.0          543.0  30.5   \n13          1    189.0          60.0       23.0          846.0  30.1   \n..        ...      ...           ...        ...            ...   ...   \n753         0    181.0          88.0       44.0          510.0  43.3   \n755         1    128.0          88.0       39.0          110.0  36.5   \n760         2     88.0          58.0       26.0           16.0  28.4   \n763        10    101.0          76.0       48.0          180.0  32.9   \n765         5    121.0          72.0       23.0          112.0  26.2   \n\n     Diabetes_Pedigree  Age  Class  \n3                0.167   21      0  \n4                2.288   33      1  \n6                0.248   26      1  \n8                0.158   53      1  \n13               0.398   59      1  \n..                 ...  ...    ...  \n753              0.222   26      1  \n755              1.057   37      1  \n760              0.766   22      0  \n763              0.171   63      0  \n765              0.245   30      0  \n\n[392 rows x 9 columns]\n"
        }
      ],
      "execution_count": 20,
      "metadata": {
        "colab": {
          "base_uri": "https://localhost:8080/"
        },
        "id": "pHizDEe1jE1P",
        "outputId": "8d853520-f4b3-4c87-91ba-8cde4c2449e8"
      }
    },
    {
      "cell_type": "code",
      "source": [
        "# b. Fill missing values with 0\n",
        "df_fill_zero = d1.fillna(0)\n",
        "print(\"\\nDataFrame after filling missing values with 0:\")\n",
        "print(df_fill_zero)"
      ],
      "outputs": [
        {
          "output_type": "stream",
          "name": "stdout",
          "text": "\nDataFrame after filling missing values with 0:\n     Pregnant  Glucose  Diastolic_BP  Skin_Fold  Serum_Insulin   BMI  \\\n0           6    148.0          72.0       35.0            0.0  33.6   \n1           1     85.0          66.0       29.0            0.0  26.6   \n2           8    183.0          64.0        0.0            0.0  23.3   \n3           1     89.0          66.0       23.0           94.0  28.1   \n4           0    137.0          40.0       35.0          168.0  43.1   \n..        ...      ...           ...        ...            ...   ...   \n763        10    101.0          76.0       48.0          180.0  32.9   \n764         2    122.0          70.0       27.0            0.0  36.8   \n765         5    121.0          72.0       23.0          112.0  26.2   \n766         1    126.0          60.0        0.0            0.0  30.1   \n767         1     93.0          70.0       31.0            0.0  30.4   \n\n     Diabetes_Pedigree  Age  Class  \n0                0.627   50      1  \n1                0.351   31      0  \n2                0.672   32      1  \n3                0.167   21      0  \n4                2.288   33      1  \n..                 ...  ...    ...  \n763              0.171   63      0  \n764              0.340   27      0  \n765              0.245   30      0  \n766              0.349   47      1  \n767              0.315   23      0  \n\n[768 rows x 9 columns]\n"
        }
      ],
      "execution_count": 21,
      "metadata": {
        "colab": {
          "base_uri": "https://localhost:8080/"
        },
        "id": "N-mV2BoAjcz-",
        "outputId": "82670b4e-9ea2-4baf-d1b4-b474d25aaf03"
      }
    },
    {
      "cell_type": "code",
      "source": [
        "df_fill_mean = d1.fillna(d1.mean())\n",
        "print(\"\\nDataFrame after filling missing values with mean:\")\n",
        "print(df_fill_mean)"
      ],
      "outputs": [
        {
          "output_type": "stream",
          "name": "stdout",
          "text": "\nDataFrame after filling missing values with mean:\n     Pregnant  Glucose  Diastolic_BP  Skin_Fold  Serum_Insulin   BMI  \\\n0           6    148.0          72.0   35.00000     155.548223  33.6   \n1           1     85.0          66.0   29.00000     155.548223  26.6   \n2           8    183.0          64.0   29.15342     155.548223  23.3   \n3           1     89.0          66.0   23.00000      94.000000  28.1   \n4           0    137.0          40.0   35.00000     168.000000  43.1   \n..        ...      ...           ...        ...            ...   ...   \n763        10    101.0          76.0   48.00000     180.000000  32.9   \n764         2    122.0          70.0   27.00000     155.548223  36.8   \n765         5    121.0          72.0   23.00000     112.000000  26.2   \n766         1    126.0          60.0   29.15342     155.548223  30.1   \n767         1     93.0          70.0   31.00000     155.548223  30.4   \n\n     Diabetes_Pedigree  Age  Class  \n0                0.627   50      1  \n1                0.351   31      0  \n2                0.672   32      1  \n3                0.167   21      0  \n4                2.288   33      1  \n..                 ...  ...    ...  \n763              0.171   63      0  \n764              0.340   27      0  \n765              0.245   30      0  \n766              0.349   47      1  \n767              0.315   23      0  \n\n[768 rows x 9 columns]\n"
        }
      ],
      "execution_count": 22,
      "metadata": {
        "colab": {
          "base_uri": "https://localhost:8080/"
        },
        "id": "aOlycsyBjlcc",
        "outputId": "41b323be-56e1-4995-faf7-693d0043a42a"
      }
    },
    {
      "cell_type": "code",
      "source": [
        "from sklearn.preprocessing import MinMaxScaler, MaxAbsScaler\n",
        "from sklearn.preprocessing import KBinsDiscretizer\n",
        "min_max_scaler = MinMaxScaler()\n",
        "df_normalized_minmax = d1.copy()\n",
        "df_normalized_minmax[d1.columns] = min_max_scaler.fit_transform(d1[d1.columns])\n",
        "print(\"\\nDataFrame after MinMax normalization:\")\n",
        "print(df_normalized_minmax.head())"
      ],
      "outputs": [
        {
          "output_type": "stream",
          "name": "stdout",
          "text": "\nDataFrame after MinMax normalization:\n   Pregnant   Glucose  Diastolic_BP  Skin_Fold  Serum_Insulin       BMI  \\\n0  0.352941  0.670968      0.489796   0.304348            NaN  0.314928   \n1  0.058824  0.264516      0.428571   0.239130            NaN  0.171779   \n2  0.470588  0.896774      0.408163        NaN            NaN  0.104294   \n3  0.058824  0.290323      0.428571   0.173913       0.096154  0.202454   \n4  0.000000  0.600000      0.163265   0.304348       0.185096  0.509202   \n\n   Diabetes_Pedigree       Age  Class  \n0           0.234415  0.483333    1.0  \n1           0.116567  0.166667    0.0  \n2           0.253629  0.183333    1.0  \n3           0.038002  0.000000    0.0  \n4           0.943638  0.200000    1.0  \n"
        }
      ],
      "execution_count": 23,
      "metadata": {
        "colab": {
          "base_uri": "https://localhost:8080/"
        },
        "id": "3hPH6o2tlwVh",
        "outputId": "99e65af6-49ab-4b14-f500-926b5dad7400"
      }
    },
    {
      "cell_type": "code",
      "source": [
        "from sklearn.preprocessing import MinMaxScaler, MaxAbsScaler\n",
        "from sklearn.preprocessing import KBinsDiscretizer\n",
        "max_abs_scaler = MaxAbsScaler()\n",
        "df_normalized_maxabs = d1.copy()\n",
        "df_normalized_maxabs[d1.columns] = max_abs_scaler.fit_transform(d1[d1.columns])\n",
        "print(\"\\nDataFrame after MaxAbs normalization:\")\n",
        "print(df_normalized_maxabs.head())"
      ],
      "outputs": [
        {
          "output_type": "stream",
          "name": "stdout",
          "text": "\nDataFrame after MaxAbs normalization:\n   Pregnant   Glucose  Diastolic_BP  Skin_Fold  Serum_Insulin       BMI  \\\n0  0.352941  0.743719      0.590164   0.353535            NaN  0.500745   \n1  0.058824  0.427136      0.540984   0.292929            NaN  0.396423   \n2  0.470588  0.919598      0.524590        NaN            NaN  0.347243   \n3  0.058824  0.447236      0.540984   0.232323       0.111111  0.418778   \n4  0.000000  0.688442      0.327869   0.353535       0.198582  0.642325   \n\n   Diabetes_Pedigree       Age  Class  \n0           0.259091  0.617284    1.0  \n1           0.145041  0.382716    0.0  \n2           0.277686  0.395062    1.0  \n3           0.069008  0.259259    0.0  \n4           0.945455  0.407407    1.0  \n"
        }
      ],
      "execution_count": 24,
      "metadata": {
        "colab": {
          "base_uri": "https://localhost:8080/"
        },
        "id": "-IqV5d93mGn4",
        "outputId": "e033328d-9fb2-4229-d58d-22cf26abe03f"
      }
    },
    {
      "cell_type": "code",
      "source": [
        "# b. Discretization (binning)\n",
        "# Example: Binning a column ('Age' in this case)\n",
        "if 'Age' in d1.columns:\n",
        "    discretizer = KBinsDiscretizer(n_bins=5, encode='ordinal', strategy='uniform')\n",
        "    df_binned = d1.copy()\n",
        "    df_binned['Age_binned'] = discretizer.fit_transform(d1[['Age']])\n",
        "    print(\"\\nDataFrame after discretizing 'Age':\")\n",
        "    print(df_binned.head())\n",
        "else:\n",
        "    print(\"\\n'Age' column not found for discretization.\")"
      ],
      "outputs": [
        {
          "output_type": "stream",
          "name": "stdout",
          "text": "\nDataFrame after discretizing 'Age':\n   Pregnant  Glucose  Diastolic_BP  Skin_Fold  Serum_Insulin   BMI  \\\n0         6    148.0          72.0       35.0            NaN  33.6   \n1         1     85.0          66.0       29.0            NaN  26.6   \n2         8    183.0          64.0        NaN            NaN  23.3   \n3         1     89.0          66.0       23.0           94.0  28.1   \n4         0    137.0          40.0       35.0          168.0  43.1   \n\n   Diabetes_Pedigree  Age  Class  Age_binned  \n0              0.627   50      1         2.0  \n1              0.351   31      0         0.0  \n2              0.672   32      1         0.0  \n3              0.167   21      0         0.0  \n4              2.288   33      1         1.0  \n"
        },
        {
          "output_type": "stream",
          "name": "stderr",
          "text": "/usr/local/lib/python3.10/dist-packages/sklearn/preprocessing/_discretization.py:248: FutureWarning: In version 1.5 onwards, subsample=200_000 will be used by default. Set subsample explicitly to silence this warning in the mean time. Set subsample=None to disable subsampling explicitly.\n  warnings.warn(\n"
        }
      ],
      "execution_count": 25,
      "metadata": {
        "colab": {
          "base_uri": "https://localhost:8080/"
        },
        "id": "wVSOXSc6meLc",
        "outputId": "d3cf1587-9b53-4a3c-f549-7616b8f78285"
      }
    }
  ],
  "metadata": {
    "colab": {
      "provenance": []
    },
    "kernelspec": {
      "name": "python3",
      "display_name": "Python 3"
    },
    "language_info": {
      "name": "python"
    },
    "nteract": {
      "version": "nteract-front-end@1.0.0"
    }
  },
  "nbformat": 4,
  "nbformat_minor": 0
}