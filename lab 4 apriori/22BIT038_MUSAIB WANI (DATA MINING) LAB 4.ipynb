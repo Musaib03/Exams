{
  "cells": [
    {
      "cell_type": "markdown",
      "metadata": {
        "id": "3Azqpbw4nKeZ"
      },
      "source": [
        "DATA PROCESSING\n",
        "MUSAIB MAQBOOL WANI 22BIT038"
      ]
    },
    {
      "cell_type": "code",
      "execution_count": null,
      "metadata": {
        "colab": {
          "base_uri": "https://localhost:8080/"
        },
        "id": "fvDG9mBnnS5L",
        "outputId": "871ad3a3-9e6c-4ba1-de55-c2ad2d1b0e8c"
      },
      "outputs": [
        {
          "name": "stdout",
          "output_type": "stream",
          "text": [
            "Sample Transactions:\n",
            "['shrimp', 'almonds', 'avocado', 'vegetables mix', 'green grapes', 'whole weat flour', 'yams', 'cottage cheese', 'energy drink', 'tomato juice', 'low fat yogurt', 'green tea', 'honey', 'salad', 'mineral water', 'salmon', 'antioxydant juice', 'frozen smoothie', 'spinach', 'olive oil']\n",
            "['burgers', 'meatballs', 'eggs', '', '', '', '', '', '', '', '', '', '', '', '', '', '', '', '', '']\n",
            "['chutney', '', '', '', '', '', '', '', '', '', '', '', '', '', '', '', '', '', '', '']\n",
            "['turkey', 'avocado', '', '', '', '', '', '', '', '', '', '', '', '', '', '', '', '', '', '']\n",
            "['mineral water', 'milk', 'energy bar', 'whole wheat rice', 'green tea', '', '', '', '', '', '', '', '', '', '', '', '', '', '', '']\n",
            "\n",
            "Encoded DataFrame:\n",
            "           asparagus  almonds  antioxydant juice  asparagus  avocado  \\\n",
            "0  False       False     True               True      False     True   \n",
            "1   True       False    False              False      False    False   \n",
            "2   True       False    False              False      False    False   \n",
            "3   True       False    False              False      False     True   \n",
            "4   True       False    False              False      False    False   \n",
            "\n",
            "   babies food  bacon  barbecue sauce  black tea  ...  turkey  vegetables mix  \\\n",
            "0        False  False           False      False  ...   False            True   \n",
            "1        False  False           False      False  ...   False           False   \n",
            "2        False  False           False      False  ...   False           False   \n",
            "3        False  False           False      False  ...    True           False   \n",
            "4        False  False           False      False  ...   False           False   \n",
            "\n",
            "   water spray  white wine  whole weat flour  whole wheat pasta  \\\n",
            "0        False       False              True              False   \n",
            "1        False       False             False              False   \n",
            "2        False       False             False              False   \n",
            "3        False       False             False              False   \n",
            "4        False       False             False              False   \n",
            "\n",
            "   whole wheat rice   yams  yogurt cake  zucchini  \n",
            "0             False   True        False     False  \n",
            "1             False  False        False     False  \n",
            "2             False  False        False     False  \n",
            "3             False  False        False     False  \n",
            "4              True  False        False     False  \n",
            "\n",
            "[5 rows x 121 columns]\n",
            "\n",
            "Frequent Itemsets:\n",
            "    support itemsets\n",
            "0  0.999867       ()\n",
            "\n",
            "Association Rules:\n",
            "Empty DataFrame\n",
            "Columns: [antecedents, consequents, antecedent support, consequent support, support, confidence, lift, leverage, conviction, zhangs_metric]\n",
            "Index: []\n"
          ]
        },
        {
          "name": "stderr",
          "output_type": "stream",
          "text": [
            "/usr/local/lib/python3.10/dist-packages/ipykernel/ipkernel.py:283: DeprecationWarning: `should_run_async` will not call `transform_cell` automatically in the future. Please pass the result to `transformed_cell` argument and any exception that happen during thetransform in `preprocessing_exc_tuple` in IPython 7.17 and above.\n",
            "  and should_run_async(code)\n",
            "<ipython-input-8-8591f0e05ff5>:10: FutureWarning: DataFrame.applymap has been deprecated. Use DataFrame.map instead.\n",
            "  data = data.applymap(str)  # Convert all values to strings\n"
          ]
        }
      ],
      "source": [
        "import pandas as pd\n",
        "from mlxtend.preprocessing import TransactionEncoder\n",
        "from mlxtend.frequent_patterns import apriori, association_rules\n",
        "\n",
        "# Load the dataset\n",
        "data = pd.read_csv('store.csv', header=None)\n",
        "\n",
        "# Convert all data to strings and ensure no NaN values\n",
        "data = data.fillna('')\n",
        "data = data.applymap(str)  # Convert all values to strings\n",
        "\n",
        "# Convert the DataFrame to a list of transactions\n",
        "transactions = data.apply(lambda x: x.tolist(), axis=1).tolist()\n",
        "\n",
        "# Remove any empty transactions\n",
        "transactions = [transaction for transaction in transactions if len(transaction) > 0]\n",
        "\n",
        "# Print transactions to verify format\n",
        "print(\"Sample Transactions:\")\n",
        "for transaction in transactions[:5]:\n",
        "    print(transaction)\n",
        "\n",
        "# Initialize the TransactionEncoder\n",
        "te = TransactionEncoder()\n",
        "te_ary = te.fit(transactions).transform(transactions)\n",
        "\n",
        "# Convert to a DataFrame\n",
        "df = pd.DataFrame(te_ary, columns=te.columns_)\n",
        "\n",
        "# Print the DataFrame to verify its content\n",
        "print(\"\\nEncoded DataFrame:\")\n",
        "print(df.head())\n",
        "\n",
        "# Apply the Apriori algorithm with a lower support threshold\n",
        "frequent_itemsets = apriori(df, min_support=0.3, use_colnames=True)\n",
        "\n",
        "# Print frequent itemsets\n",
        "print(\"\\nFrequent Itemsets:\")\n",
        "print(frequent_itemsets)\n",
        "\n",
        "# Generate association rules if there are frequent itemsets\n",
        "if not frequent_itemsets.empty:\n",
        "    rules = association_rules(frequent_itemsets, metric=\"confidence\", min_threshold=0.3)\n",
        "    print(\"\\nAssociation Rules:\")\n",
        "    print(rules)\n",
        "else:\n",
        "    print(\"No frequent itemsets found with the given support threshold.\")\n"
      ]
    }
  ],
  "metadata": {
    "colab": {
      "provenance": [],
      "toc_visible": true
    },
    "kernelspec": {
      "display_name": "Python 3",
      "name": "python3"
    },
    "language_info": {
      "name": "python"
    }
  },
  "nbformat": 4,
  "nbformat_minor": 0
}
